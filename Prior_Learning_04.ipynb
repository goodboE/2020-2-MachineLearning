{
 "cells": [
  {
   "cell_type": "code",
   "execution_count": 1,
   "metadata": {},
   "outputs": [
    {
     "name": "stdout",
     "output_type": "stream",
     "text": [
      "[[0.72630335]\n",
      " [0.70859807]\n",
      " [0.77809706]]\n"
     ]
    }
   ],
   "source": [
    "\"\"\" 1. 333신경망 \"\"\"\n",
    "import numpy as np\n",
    "\n",
    "def sigmoid(x):\n",
    "    return 1/(1 + np.exp(-x))\n",
    "\n",
    "I = np.array([0.9, 0.1, 0.8], ndmin=2).T\n",
    "W_input_hidden = np.array([[0.9, 0.2, 0.1],\n",
    "                         [0.3, 0.8, 0.5],\n",
    "                         [0.4, 0.2, 0.6]]).T\n",
    "\n",
    "W_hidden_output = np.array([[0.3, 0.6, 0.8],\n",
    "                           [0.7, 0.5, 0.1],\n",
    "                           [0.5, 0.2, 0.9]]).T\n",
    "\n",
    "X_hidden = np.dot(W_input_hidden, I)\n",
    "O_hidden = sigmoid(X_hidden)\n",
    "X_output = np.dot(W_hidden_output, O_hidden)\n",
    "O_output = sigmoid(X_output)\n",
    "print(O_output)"
   ]
  },
  {
   "cell_type": "code",
   "execution_count": 2,
   "metadata": {},
   "outputs": [
    {
     "name": "stdout",
     "output_type": "stream",
     "text": [
      "0.42000000000000004\n",
      "0.88\n"
     ]
    }
   ],
   "source": [
    "\"\"\" 2. 222신경망 \"\"\"\n",
    "\n",
    "W_hidden_output = np.array([[2,1],\n",
    "                           [3,4]],ndmin=2).T\n",
    "e_output_1 = 0.8\n",
    "e_output_2 = 0.5\n",
    "\n",
    "e_hidden_1 = (e_output_1*(W_hidden_output[0][0]/(W_hidden_output[0][0]+W_hidden_output[0][1]))) + (e_output_2*(W_hidden_output[1][0]/(W_hidden_output[1][0]+W_hidden_output[1][1])))\n",
    "e_hidden_2 = (e_output_1*(W_hidden_output[0][1]/(W_hidden_output[0][0]+W_hidden_output[0][1]))) + (e_output_2*(W_hidden_output[1][1]/(W_hidden_output[1][0]+W_hidden_output[1][1])))\n",
    "\n",
    "print(e_hidden_1)\n",
    "print(e_hidden_2)"
   ]
  },
  {
   "cell_type": "code",
   "execution_count": 3,
   "metadata": {
    "scrolled": true
   },
   "outputs": [
    {
     "name": "stdout",
     "output_type": "stream",
     "text": [
      "e1: 0.8\n",
      "sigmoid(w_o_[0]): [0.90887704]\n",
      "1 - sigmoid(w_o_[0]): [0.09112296]\n",
      "o_j: [0.4]\n",
      "오차기울기: -0.026470079999999997\n",
      "변화량: -0.002647008\n",
      "===========================================\n",
      "새로운 w11: 2.002647008\n"
     ]
    }
   ],
   "source": [
    "\"\"\" 3. 222신경망 \"\"\"\n",
    "\n",
    "o_j = np.array([0.4, 0.5],ndmin=2).T\n",
    "w = np.array([[2, 1],  \n",
    "            [3, 4]]).T\n",
    "\n",
    "w_o_ = np.dot(w, o_j) # 시그모이드 함수내의 합\n",
    "\n",
    "alpha = 0.1 # 가중치\n",
    "e_1 = 0.8   # 오차 e1\n",
    "\n",
    "\n",
    "print('e1:', e_1)\n",
    "print('sigmoid(w_o_[0]):', sigmoid(w_o_[0]))\n",
    "print('1 - sigmoid(w_o_[0]):', 1- sigmoid(w_o_[0]))\n",
    "print('o_j:', o_j[0])\n",
    "print('오차기울기:', -0.8*0.909*(1-0.909)*0.4)\n",
    "print('변화량:', alpha*-0.8*0.909*(1-0.909)*0.4)\n",
    "print('===========================================')\n",
    "print('새로운 w11:', 2 - alpha*-0.8*0.909*(1-0.909)*0.4)"
   ]
  },
  {
   "cell_type": "code",
   "execution_count": 21,
   "metadata": {},
   "outputs": [
    {
     "name": "stdout",
     "output_type": "stream",
     "text": [
      "*역전파 오차값 \n",
      "e_hidden_output1: 0.8093999999999999\n",
      "e_hidden_output2: 0.821\n",
      "e_hidden_output3: 0.8333999999999999\n",
      "===========================================\n",
      "*가중치 업데이트(은닉계층-출력계층)\n",
      "새로운 가중치 w11 : 0.3108340984944785\n",
      "새로운 가중치 w12 : 0.6086926655223571\n",
      "새로운 가중치 w13 : 0.8023799591801705\n",
      "새로운 가중치 w21 : 0.7108340984944784\n",
      "새로운 가중치 w22 : 0.5086926655223571\n",
      "새로운 가중치 w23 : 0.10237995918017039\n",
      "새로운 가중치 w31 : 0.5108340984944785\n",
      "새로운 가중치 w32 : 0.20869266552235713\n",
      "새로운 가중치 w33 : 0.9023799591801704\n",
      "===========================================\n",
      "*가중치 비교\n",
      "[[0.3 0.7 0.5]\n",
      " [0.6 0.5 0.2]\n",
      " [0.8 0.1 0.9]]\n",
      "[[0.3108341  0.7108341  0.5108341 ]\n",
      " [0.60869267 0.50869267 0.20869267]\n",
      " [0.80237996 0.10237996 0.90237996]]\n"
     ]
    }
   ],
   "source": [
    "\"\"\" 4. 333신경망 > 역전파 오차값과 가중치 업데이트를 계산해 보세요.\"\"\"\n",
    "targets = np.array([[0.01], [0.01], [0.99]])\n",
    "W_hidden_output = np.array([[0.3, 0.6, 0.8],\n",
    "                           [0.7, 0.5, 0.1],\n",
    "                           [0.5, 0.2, 0.9]]).T\n",
    "alpha = 0.1 # 학습률\n",
    "\n",
    "# 오차값(절대값)\n",
    "# | targets - O_output|\n",
    "e_output = np.array([0.716, 0.698, 0.212])\n",
    "\n",
    "# 역전파 가중치는 정규화\n",
    "e_hidden_output_1 = e_output[0]*W_hidden_output[0][0] + e_output[1]*W_hidden_output[0][1] + e_output[2]*W_hidden_output[0][2]\n",
    "e_hidden_output_2 = e_output[0]*W_hidden_output[1][0] + e_output[1]*W_hidden_output[1][1] + e_output[2]*W_hidden_output[1][2]\n",
    "e_hidden_output_3 = e_output[0]*W_hidden_output[2][0] + e_output[1]*W_hidden_output[2][1] + e_output[2]*W_hidden_output[2][2]\n",
    "\n",
    "print('*역전파 오차값 ')\n",
    "print('e_hidden_output1:',e_hidden_output_1)\n",
    "print('e_hidden_output2:',e_hidden_output_2)\n",
    "print('e_hidden_output3:',e_hidden_output_3)\n",
    "print('===========================================')\n",
    "\n",
    "\n",
    "# 가중치 업데이트\n",
    "print('*가중치 업데이트(은닉계층-출력계층)')\n",
    "O_hidden = np.array([0.761, 0.603, 0.65])\n",
    "sigma_wo = np.dot(W_hidden_output, O_hidden)\n",
    "\n",
    "# 오차기울기\n",
    "k_1 = -e_output[0]*sigmoid(sigma_wo[0])*(1-sigmoid(sigma_wo[0]))*O_hidden[0]  # 첫번째 오차기울기\n",
    "k_2 = -e_output[1]*sigmoid(sigma_wo[1])*(1-sigmoid(sigma_wo[1]))*O_hidden[1]  # 두번째 오차기울기\n",
    "k_3 = -e_output[2]*sigmoid(sigma_wo[2])*(1-sigmoid(sigma_wo[2]))*O_hidden[2]  # 세번째 오차기울기\n",
    "\n",
    "\n",
    "print('새로운 가중치 w11 :', W_hidden_output[0][0]-alpha*k_1)\n",
    "print('새로운 가중치 w12 :', W_hidden_output[1][0]-alpha*k_2)\n",
    "print('새로운 가중치 w13 :', W_hidden_output[2][0]-alpha*k_3)\n",
    "print('새로운 가중치 w21 :', W_hidden_output[0][1]-alpha*k_1)\n",
    "print('새로운 가중치 w22 :', W_hidden_output[1][1]-alpha*k_2)\n",
    "print('새로운 가중치 w23 :', W_hidden_output[2][1]-alpha*k_3)\n",
    "print('새로운 가중치 w31 :', W_hidden_output[0][2]-alpha*k_1)\n",
    "print('새로운 가중치 w32 :', W_hidden_output[1][2]-alpha*k_2)\n",
    "print('새로운 가중치 w33 :', W_hidden_output[2][2]-alpha*k_3)\n",
    "print('===========================================')\n",
    "print('*가중치 비교')\n",
    "print(W_hidden_output)\n",
    "new_W_hidden_output = np.array([[W_hidden_output[0][0]-alpha*k_1, W_hidden_output[1][0]-alpha*k_2, W_hidden_output[2][0]-alpha*k_3],\n",
    "                               [W_hidden_output[0][1]-alpha*k_1, W_hidden_output[1][1]-alpha*k_2, W_hidden_output[2][1]-alpha*k_3],\n",
    "                               [W_hidden_output[0][2]-alpha*k_1, W_hidden_output[1][2]-alpha*k_2, W_hidden_output[2][2]-alpha*k_3]],ndmin=2).T\n",
    "print(new_W_hidden_output)"
   ]
  },
  {
   "cell_type": "code",
   "execution_count": null,
   "metadata": {},
   "outputs": [],
   "source": []
  }
 ],
 "metadata": {
  "kernelspec": {
   "display_name": "Python 3",
   "language": "python",
   "name": "python3"
  },
  "language_info": {
   "codemirror_mode": {
    "name": "ipython",
    "version": 3
   },
   "file_extension": ".py",
   "mimetype": "text/x-python",
   "name": "python",
   "nbconvert_exporter": "python",
   "pygments_lexer": "ipython3",
   "version": "3.7.3"
  }
 },
 "nbformat": 4,
 "nbformat_minor": 4
}
